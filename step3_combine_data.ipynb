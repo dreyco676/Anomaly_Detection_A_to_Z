{
 "cells": [
  {
   "cell_type": "code",
   "execution_count": 13,
   "metadata": {
    "collapsed": true
   },
   "outputs": [],
   "source": [
    "import pandas as pd\n",
    "from pytz import all_timezones\n",
    "\n",
    "weather = pd.read_csv('weather_cst.csv')\n",
    "weather['ds'] = weather['ds'].str.replace('-05:00', '')\n",
    "weather['ds'] = weather['ds'].str.replace('-06:00', '')\n",
    "weather['ds'] = pd.to_datetime(weather['ds'])"
   ]
  },
  {
   "cell_type": "code",
   "execution_count": 14,
   "metadata": {},
   "outputs": [],
   "source": [
    "seasonal = pd.read_csv('trend_seasonality.csv')\n",
    "seasonal['ds'] = pd.to_datetime(seasonal['ds'])\n",
    "seasonal = seasonal[['ds', 'trend', 'daily', 'weekly', 'yearly', 'holidays', 'yhat']]"
   ]
  },
  {
   "cell_type": "code",
   "execution_count": 15,
   "metadata": {
    "collapsed": true
   },
   "outputs": [],
   "source": [
    "raw_df = pd.read_csv('ts_traffic.csv')\n",
    "raw_df['ds'] = pd.to_datetime(raw_df['ds'])\n",
    "raw_df['y'] = raw_df['Traffic_Volume']"
   ]
  },
  {
   "cell_type": "code",
   "execution_count": 16,
   "metadata": {},
   "outputs": [],
   "source": [
    "# merge with seasonal\n",
    "df = pd.merge(raw_df[['ds', 'y']], seasonal, on='ds')\n",
    "\n",
    "# merge with weather\n",
    "final_df = pd.merge(df, weather[['ds', 'snow_1h', 'rain_1h']], on='ds')\n",
    "final_df.to_csv('final.csv', index=False)"
   ]
  },
  {
   "cell_type": "code",
   "execution_count": 17,
   "metadata": {},
   "outputs": [
    {
     "data": {
      "text/plain": [
       "Index(['ds', 'y', 'trend', 'daily', 'weekly', 'yearly', 'holidays', 'yhat',\n",
       "       'snow_1h', 'rain_1h'],\n",
       "      dtype='object')"
      ]
     },
     "execution_count": 17,
     "metadata": {},
     "output_type": "execute_result"
    }
   ],
   "source": [
    "final_df.columns"
   ]
  }
 ],
 "metadata": {
  "kernelspec": {
   "display_name": "Python 3",
   "language": "python",
   "name": "python3"
  },
  "language_info": {
   "codemirror_mode": {
    "name": "ipython",
    "version": 3
   },
   "file_extension": ".py",
   "mimetype": "text/x-python",
   "name": "python",
   "nbconvert_exporter": "python",
   "pygments_lexer": "ipython3",
   "version": "3.6.3"
  }
 },
 "nbformat": 4,
 "nbformat_minor": 2
}
