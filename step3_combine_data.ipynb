{
 "cells": [
  {
   "cell_type": "code",
   "execution_count": 9,
   "metadata": {},
   "outputs": [],
   "source": [
    "import pandas as pd\n",
    "\n",
    "weather = pd.read_csv('weather_cst.csv')\n",
    "weather['ds'] = pd.to_datetime(weather['ds'])\n",
    "\n",
    "seasonal = pd.read_csv('trend_seasonality.csv')\n",
    "seasonal['ds'] = pd.to_datetime(seasonal['ds'])\n",
    "\n",
    "raw_df = pd.read_csv('ts_traffic.csv')\n",
    "raw_df['ds'] = pd.to_datetime(raw_df['ds'])\n",
    "raw_df['y'] = raw_df['Traffic_Volume']\n",
    "raw_df = raw_df[['ds', 'y']]\n",
    "\n",
    "# calculate the residuals\n",
    "df = pd.merge(raw_df[['ds', 'y']], seasonal, on='ds')\n",
    "df['seasonal_residuals'] = (df['yhat'] - df['y'])\n",
    "\n",
    "final_df = pd.merge(df[['ds', 'seasonal_residuals']], weather, on='ds')\n",
    "final_df.to_csv('final.csv', index=False)"
   ]
  }
 ],
 "metadata": {
  "kernelspec": {
   "display_name": "Python 3",
   "language": "python",
   "name": "python3"
  },
  "language_info": {
   "codemirror_mode": {
    "name": "ipython",
    "version": 3
   },
   "file_extension": ".py",
   "mimetype": "text/x-python",
   "name": "python",
   "nbconvert_exporter": "python",
   "pygments_lexer": "ipython3",
   "version": "3.6.3"
  }
 },
 "nbformat": 4,
 "nbformat_minor": 2
}
